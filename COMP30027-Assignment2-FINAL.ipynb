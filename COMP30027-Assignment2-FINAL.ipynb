{
 "cells": [
  {
   "cell_type": "markdown",
   "metadata": {},
   "source": [
    "##### The University of Melbourne, School of Computing and Information Systems\n",
    "# COMP30027 Machine Learning, 2022 Semester 1\n",
    "\n",
    "## Assignment 2: Sentiment Classification of Tweets\n",
    "\n",
    "This is a sample code to assist you with vectorising the 'Train' dataset for your assignment 2.\n",
    "\n",
    "First we read the CSV datafiles (Train and Test)."
   ]
  },
  {
   "cell_type": "code",
   "execution_count": 1,
   "metadata": {},
   "outputs": [],
   "source": [
    "from sklearn import model_selection, preprocessing, linear_model, naive_bayes, metrics, svm\n",
    "from sklearn.feature_extraction.text import TfidfVectorizer, CountVectorizer\n",
    "from sklearn import decomposition, ensemble\n",
    "from sklearn.tree import DecisionTreeClassifier\n",
    "from sklearn.linear_model import LinearRegression\n",
    "from sklearn.feature_extraction.text import CountVectorizer\n",
    "from sklearn.model_selection import train_test_split\n",
    "from sklearn import svm\n",
    "from sklearn.svm import SVC \n",
    "from sklearn.pipeline import Pipeline\n",
    "from sklearn import preprocessing\n",
    "from sklearn.metrics import classification_report, confusion_matrix\n",
    "from sklearn import metrics\n",
    "import pandas as pd\n",
    "import sys\n",
    "import numpy as np\n",
    "from sklearn.metrics import accuracy_score\n",
    "from sklearn.metrics import f1_score\n",
    "import nltk\n",
    "from nltk.tokenize import RegexpTokenizer\n",
    "from nltk.stem import WordNetLemmatizer\n",
    "from nltk.tag import pos_tag\n",
    "from sklearn.model_selection import GridSearchCV\n",
    "from imblearn.over_sampling import RandomOverSampler, SMOTE\n",
    "from imblearn.pipeline import Pipeline\n",
    "from mlxtend.plotting import plot_decision_regions\n",
    "import os\n",
    "import matplotlib.pyplot as plt\n",
    "import seaborn as sns\n",
    "import re\n",
    "import openpyxl\n",
    "import copy as c\n",
    "from sklearn.model_selection import train_test_split,StratifiedKFold\n",
    "from sklearn.metrics import accuracy_score\n",
    "from sklearn.metrics import f1_score\n",
    "from sklearn.model_selection import GridSearchCV\n",
    "from sklearn.metrics import confusion_matrix, plot_confusion_matrix\n",
    "import matplotlib.pyplot as plt\n",
    "from sklearn.svm import SVC\n",
    "from sklearn import svm, datasets\n",
    "import matplotlib.pyplot as plt\n",
    "from sklearn.ensemble import RandomForestClassifier\n",
    "from imblearn.over_sampling import RandomOverSampler, SMOTE\n",
    "from sklearn import metrics    \n",
    "from sklearn import tree\n",
    "import io\n",
    "import pydot\n",
    "from IPython.core.display import Image\n",
    "import matplotlib as mpl\n",
    "from sklearn.tree import DecisionTreeClassifier, export_graphviz\n",
    "from os import system   \n",
    "import graphviz\n",
    "from sklearn.naive_bayes import MultinomialNB\n",
    "from os import system                \n",
    "from sklearn.ensemble import VotingClassifier\n",
    "from sklearn.linear_model import Perceptron\n",
    "import statsmodels.api as sm \n",
    "system(\"pip install graphviz\")\n",
    "os.environ[\"PATH\"] += os.pathsep + 'C:\\\\Program Files\\\\Graphviz\\\\bin\\\\' \n",
    "from matplotlib.colors import ListedColormap"
   ]
  },
  {
   "cell_type": "code",
   "execution_count": 2,
   "metadata": {},
   "outputs": [
    {
     "name": "stdout",
     "output_type": "stream",
     "text": [
      "['neutral' 'positive' 'negative']\n",
      "Index(['Unnamed: 0', 'id', 'text', 'sentiment'], dtype='object')\n"
     ]
    }
   ],
   "source": [
    "train_data = pd.read_csv(\"Train.csv\", sep=',')\n",
    "test_data = pd.read_csv(\"Test.csv\", sep=',')\n",
    "\n",
    "print(train_data['sentiment'].unique())\n",
    "print(train_data.columns)"
   ]
  },
  {
   "cell_type": "markdown",
   "metadata": {},
   "source": [
    "### Pie chart"
   ]
  },
  {
   "cell_type": "code",
   "execution_count": 3,
   "metadata": {},
   "outputs": [
    {
     "data": {
      "image/png": "[encoded data removed]",
      "text/plain": [
       "<Figure size 432x288 with 1 Axes>"
      ]
     },
     "metadata": {},
     "output_type": "display_data"
    }
   ],
   "source": [
    "labels = ['neutral', 'positive', 'negative']\n",
    "sizes = list(train_data['sentiment'].value_counts())\n",
    "#colors\n",
    "colors = ['#a9a9a9','#4682b4','#8b0000']\n",
    "#explsion\n",
    "explode = (0.05,0.05,0.05)\n",
    " \n",
    "plt.pie(sizes, colors = colors, labels=labels, autopct='%1.1f%%', startangle=90, pctdistance=0.85, explode = explode)\n",
    "#draw circle\n",
    "centre_circle = plt.Circle((0,0),0.70,fc='white')\n",
    "fig = plt.gcf()\n",
    "fig.gca().add_artist(centre_circle)\n",
    "# Equal aspect ratio ensures that pie is drawn as a circle\n",
    "plt.tight_layout()\n",
    "plt.show()"
   ]
  },
  {
   "cell_type": "markdown",
   "metadata": {},
   "source": [
    "Then we separate the tweet text and the label (sentiment). "
   ]
  },
  {
   "cell_type": "code",
   "execution_count": 4,
   "metadata": {},
   "outputs": [
    {
     "name": "stdout",
     "output_type": "stream",
     "text": [
      "Train length: 21802\n",
      "Test length: 6099\n"
     ]
    }
   ],
   "source": [
    "#separating instance and label for Train\n",
    "X_train_raw = [x[0] for x in train_data[['text']].values]\n",
    "Y_train = [x[0] for x in train_data[['sentiment']].values]\n",
    "\n",
    "#check the result\n",
    "print(\"Train length:\",len(X_train_raw))\n",
    "\n",
    "#separating instance and label for Test\n",
    "X_test_raw = [x[0] for x in test_data[['text']].values]\n",
    "\n",
    "#check the result\n",
    "print(\"Test length:\",len(X_test_raw))"
   ]
  },
  {
   "cell_type": "code",
   "execution_count": 5,
   "metadata": {},
   "outputs": [
    {
     "name": "stdout",
     "output_type": "stream",
     "text": [
      " is anybody going to the radio station tomorrow to see shawn? me and my friend may go but we would like to make new friends/meet there (:\t\n",
      " if putin wanted to intervene all he would have had to do is donate to the clinton foundation. not hack computers &‚ä¶ https://t.co/2wuck3zowg\n"
     ]
    }
   ],
   "source": [
    "#Let's see one example tweet\n",
    "print(X_train_raw[1])\n",
    "print(X_test_raw[1])"
   ]
  },
  {
   "cell_type": "markdown",
   "metadata": {},
   "source": [
    "### Emoji Preprocessing"
   ]
  },
  {
   "cell_type": "code",
   "execution_count": 6,
   "metadata": {},
   "outputs": [
    {
     "data": {
      "text/html": [
       "<div>\n",
       "<style scoped>\n",
       "    .dataframe tbody tr th:only-of-type {\n",
       "        vertical-align: middle;\n",
       "    }\n",
       "\n",
       "    .dataframe tbody tr th {\n",
       "        vertical-align: top;\n",
       "    }\n",
       "\n",
       "    .dataframe thead th {\n",
       "        text-align: right;\n",
       "    }\n",
       "</style>\n",
       "<table border=\"1\" class=\"dataframe\">\n",
       "  <thead>\n",
       "    <tr style=\"text-align: right;\">\n",
       "      <th></th>\n",
       "      <th>emoticon</th>\n",
       "      <th>word</th>\n",
       "    </tr>\n",
       "  </thead>\n",
       "  <tbody>\n",
       "    <tr>\n",
       "      <th>0</th>\n",
       "      <td>(:</td>\n",
       "      <td>smile</td>\n",
       "    </tr>\n",
       "    <tr>\n",
       "      <th>1</th>\n",
       "      <td>:)</td>\n",
       "      <td>smile</td>\n",
       "    </tr>\n",
       "    <tr>\n",
       "      <th>2</th>\n",
       "      <td>(-:</td>\n",
       "      <td>smile</td>\n",
       "    </tr>\n",
       "    <tr>\n",
       "      <th>3</th>\n",
       "      <td>:-)</td>\n",
       "      <td>smile</td>\n",
       "    </tr>\n",
       "    <tr>\n",
       "      <th>4</th>\n",
       "      <td>o-:</td>\n",
       "      <td>surprise</td>\n",
       "    </tr>\n",
       "    <tr>\n",
       "      <th>5</th>\n",
       "      <td>:-o</td>\n",
       "      <td>surprise</td>\n",
       "    </tr>\n",
       "    <tr>\n",
       "      <th>6</th>\n",
       "      <td>:o</td>\n",
       "      <td>surprise</td>\n",
       "    </tr>\n",
       "    <tr>\n",
       "      <th>7</th>\n",
       "      <td>o:</td>\n",
       "      <td>surprise</td>\n",
       "    </tr>\n",
       "    <tr>\n",
       "      <th>8</th>\n",
       "      <td>;-)</td>\n",
       "      <td>wink</td>\n",
       "    </tr>\n",
       "    <tr>\n",
       "      <th>9</th>\n",
       "      <td>;)</td>\n",
       "      <td>wink</td>\n",
       "    </tr>\n",
       "    <tr>\n",
       "      <th>10</th>\n",
       "      <td>:-s</td>\n",
       "      <td>confuse</td>\n",
       "    </tr>\n",
       "    <tr>\n",
       "      <th>11</th>\n",
       "      <td>:s</td>\n",
       "      <td>confuse</td>\n",
       "    </tr>\n",
       "    <tr>\n",
       "      <th>12</th>\n",
       "      <td>:'(</td>\n",
       "      <td>cry</td>\n",
       "    </tr>\n",
       "    <tr>\n",
       "      <th>13</th>\n",
       "      <td>ㅠ</td>\n",
       "      <td>cry</td>\n",
       "    </tr>\n",
       "    <tr>\n",
       "      <th>14</th>\n",
       "      <td>^^</td>\n",
       "      <td>smile</td>\n",
       "    </tr>\n",
       "    <tr>\n",
       "      <th>15</th>\n",
       "      <td>:-#</td>\n",
       "      <td>secret</td>\n",
       "    </tr>\n",
       "    <tr>\n",
       "      <th>16</th>\n",
       "      <td>8-|</td>\n",
       "      <td>nerd</td>\n",
       "    </tr>\n",
       "    <tr>\n",
       "      <th>17</th>\n",
       "      <td>:-*</td>\n",
       "      <td>secret</td>\n",
       "    </tr>\n",
       "    <tr>\n",
       "      <th>18</th>\n",
       "      <td>&lt;:o)</td>\n",
       "      <td>party</td>\n",
       "    </tr>\n",
       "    <tr>\n",
       "      <th>19</th>\n",
       "      <td>:-d</td>\n",
       "      <td>happy</td>\n",
       "    </tr>\n",
       "    <tr>\n",
       "      <th>20</th>\n",
       "      <td>:d</td>\n",
       "      <td>happy</td>\n",
       "    </tr>\n",
       "    <tr>\n",
       "      <th>21</th>\n",
       "      <td>:-p</td>\n",
       "      <td>tongueout</td>\n",
       "    </tr>\n",
       "    <tr>\n",
       "      <th>22</th>\n",
       "      <td>:p</td>\n",
       "      <td>tongueout</td>\n",
       "    </tr>\n",
       "    <tr>\n",
       "      <th>23</th>\n",
       "      <td>:-(</td>\n",
       "      <td>sad</td>\n",
       "    </tr>\n",
       "    <tr>\n",
       "      <th>24</th>\n",
       "      <td>:(</td>\n",
       "      <td>sad</td>\n",
       "    </tr>\n",
       "    <tr>\n",
       "      <th>25</th>\n",
       "      <td>:|</td>\n",
       "      <td>disappoint</td>\n",
       "    </tr>\n",
       "    <tr>\n",
       "      <th>26</th>\n",
       "      <td>:-|</td>\n",
       "      <td>disappoint</td>\n",
       "    </tr>\n",
       "    <tr>\n",
       "      <th>27</th>\n",
       "      <td>:l</td>\n",
       "      <td>disappoint</td>\n",
       "    </tr>\n",
       "    <tr>\n",
       "      <th>28</th>\n",
       "      <td>:-l</td>\n",
       "      <td>disappoint</td>\n",
       "    </tr>\n",
       "    <tr>\n",
       "      <th>29</th>\n",
       "      <td>:-$</td>\n",
       "      <td>embarrassed</td>\n",
       "    </tr>\n",
       "    <tr>\n",
       "      <th>30</th>\n",
       "      <td>:$</td>\n",
       "      <td>embarrassed</td>\n",
       "    </tr>\n",
       "    <tr>\n",
       "      <th>31</th>\n",
       "      <td>:-@</td>\n",
       "      <td>angry</td>\n",
       "    </tr>\n",
       "    <tr>\n",
       "      <th>32</th>\n",
       "      <td>:@</td>\n",
       "      <td>angry</td>\n",
       "    </tr>\n",
       "    <tr>\n",
       "      <th>33</th>\n",
       "      <td>^o(</td>\n",
       "      <td>sick</td>\n",
       "    </tr>\n",
       "    <tr>\n",
       "      <th>34</th>\n",
       "      <td>*-)</td>\n",
       "      <td>thinking</td>\n",
       "    </tr>\n",
       "    <tr>\n",
       "      <th>35</th>\n",
       "      <td>:'d</td>\n",
       "      <td>sad</td>\n",
       "    </tr>\n",
       "    <tr>\n",
       "      <th>36</th>\n",
       "      <td>://</td>\n",
       "      <td>sad</td>\n",
       "    </tr>\n",
       "    <tr>\n",
       "      <th>37</th>\n",
       "      <td>:'(</td>\n",
       "      <td>sad</td>\n",
       "    </tr>\n",
       "    <tr>\n",
       "      <th>38</th>\n",
       "      <td>:////</td>\n",
       "      <td>sad</td>\n",
       "    </tr>\n",
       "    <tr>\n",
       "      <th>39</th>\n",
       "      <td>):</td>\n",
       "      <td>sad</td>\n",
       "    </tr>\n",
       "    <tr>\n",
       "      <th>40</th>\n",
       "      <td>:v</td>\n",
       "      <td>funny</td>\n",
       "    </tr>\n",
       "    <tr>\n",
       "      <th>41</th>\n",
       "      <td>:-/</td>\n",
       "      <td>confused</td>\n",
       "    </tr>\n",
       "    <tr>\n",
       "      <th>42</th>\n",
       "      <td>:)*</td>\n",
       "      <td>happy</td>\n",
       "    </tr>\n",
       "    <tr>\n",
       "      <th>43</th>\n",
       "      <td>:' )</td>\n",
       "      <td>happy</td>\n",
       "    </tr>\n",
       "    <tr>\n",
       "      <th>44</th>\n",
       "      <td>:'(((</td>\n",
       "      <td>sad</td>\n",
       "    </tr>\n",
       "    <tr>\n",
       "      <th>45</th>\n",
       "      <td>: /</td>\n",
       "      <td>sad</td>\n",
       "    </tr>\n",
       "    <tr>\n",
       "      <th>46</th>\n",
       "      <td>:')</td>\n",
       "      <td>happy</td>\n",
       "    </tr>\n",
       "    <tr>\n",
       "      <th>47</th>\n",
       "      <td>:,(</td>\n",
       "      <td>sad</td>\n",
       "    </tr>\n",
       "    <tr>\n",
       "      <th>48</th>\n",
       "      <td>(((</td>\n",
       "      <td>sad</td>\n",
       "    </tr>\n",
       "    <tr>\n",
       "      <th>49</th>\n",
       "      <td>:)))))</td>\n",
       "      <td>happy</td>\n",
       "    </tr>\n",
       "  </tbody>\n",
       "</table>\n",
       "</div>"
      ],
      "text/plain": [
       "   emoticon         word\n",
       "0        (:        smile\n",
       "1        :)        smile\n",
       "2       (-:        smile\n",
       "3       :-)        smile\n",
       "4       o-:     surprise\n",
       "5       :-o     surprise\n",
       "6        :o     surprise\n",
       "7        o:     surprise\n",
       "8       ;-)         wink\n",
       "9        ;)         wink\n",
       "10      :-s      confuse\n",
       "11       :s      confuse\n",
       "12      :'(          cry\n",
       "13        ㅠ          cry\n",
       "14       ^^        smile\n",
       "15      :-#       secret\n",
       "16      8-|         nerd\n",
       "17      :-*       secret\n",
       "18     <:o)        party\n",
       "19      :-d        happy\n",
       "20       :d        happy\n",
       "21      :-p    tongueout\n",
       "22       :p    tongueout\n",
       "23      :-(          sad\n",
       "24       :(          sad\n",
       "25       :|   disappoint\n",
       "26      :-|   disappoint\n",
       "27       :l   disappoint\n",
       "28      :-l   disappoint\n",
       "29      :-$  embarrassed\n",
       "30       :$  embarrassed\n",
       "31      :-@        angry\n",
       "32       :@        angry\n",
       "33      ^o(         sick\n",
       "34      *-)     thinking\n",
       "35      :'d          sad\n",
       "36      ://          sad\n",
       "37      :'(          sad\n",
       "38    :////          sad\n",
       "39       ):          sad\n",
       "40       :v        funny\n",
       "41      :-/     confused\n",
       "42      :)*        happy\n",
       "43     :' )        happy\n",
       "44    :'(((          sad\n",
       "45      : /          sad\n",
       "46      :')        happy\n",
       "47      :,(          sad\n",
       "48      (((          sad\n",
       "49   :)))))        happy"
      ]
     },
     "execution_count": 6,
     "metadata": {},
     "output_type": "execute_result"
    }
   ],
   "source": [
    "emotion = pd.read_excel(\"emotion.xlsx\")\n",
    "emotion.head()\n",
    "\n",
    "emotion = emotion.drop_duplicates()\n",
    "emotion"
   ]
  },
  {
   "cell_type": "code",
   "execution_count": 8,
   "metadata": {},
   "outputs": [
    {
     "data": {
      "text/plain": [
       "['is',\n",
       " 'anybody',\n",
       " 'going',\n",
       " 'to',\n",
       " 'the',\n",
       " 'radio',\n",
       " 'station',\n",
       " 'tomorrow',\n",
       " 'to',\n",
       " 'see',\n",
       " 'shawn?',\n",
       " 'me',\n",
       " 'and',\n",
       " 'my',\n",
       " 'friend',\n",
       " 'may',\n",
       " 'go',\n",
       " 'but',\n",
       " 'we',\n",
       " 'would',\n",
       " 'like',\n",
       " 'to',\n",
       " 'make',\n",
       " 'new',\n",
       " 'friends/meet',\n",
       " 'there',\n",
       " 'smile']"
      ]
     },
     "execution_count": 8,
     "metadata": {},
     "output_type": "execute_result"
    }
   ],
   "source": [
    "# function transforming emoji to appropriate word that emoji means\n",
    "def change_emotions(x):\n",
    "    x = re.sub(\"\\\"\",\"\",x)\n",
    "    try:\n",
    "        e = emotion[emotion[\"emoticon\"] == x][\"word\"].values[0]\n",
    "        return(e)\n",
    "    except :\n",
    "        return(x)\n",
    "    \n",
    "def change_all_emotions(x):\n",
    "    tokenizer1 = RegexpTokenizer(\"[\\s]+\", gaps=True)\n",
    "    tmp = tokenizer1.tokenize(x)\n",
    "    return list(map(change_emotions,tmp))\n",
    "\n",
    "change_all_emotions(X_train_raw[1])"
   ]
  },
  {
   "cell_type": "markdown",
   "metadata": {},
   "source": [
    "### Preprocessing"
   ]
  },
  {
   "cell_type": "code",
   "execution_count": 9,
   "metadata": {},
   "outputs": [],
   "source": [
    "X_train_raw = list(map(change_all_emotions, X_train_raw))\n",
    "X_test_raw = list(map(change_all_emotions, X_test_raw))"
   ]
  },
  {
   "cell_type": "code",
   "execution_count": 10,
   "metadata": {},
   "outputs": [],
   "source": [
    "# \\+: recognizing the case of more than one letter or number.\n",
    "tokenizer2 = RegexpTokenizer(\"[\\w]+\")\n",
    "\n",
    "def preprocessing(x):\n",
    "    tmp = [i for i in x if i[:4] != 'http']\n",
    "    tmp = tokenizer2.tokenize(\" \".join(tmp))\n",
    "    #alphabet lower\n",
    "    tokens = [w.lower() for w in tmp]\n",
    "    # remove ramaining tokens that are alphabetic\n",
    "    tokens = [word for word in tokens if word.isalpha()]\n",
    "    \n",
    "    return \" \".join(tokens)"
   ]
  },
  {
   "cell_type": "code",
   "execution_count": 11,
   "metadata": {},
   "outputs": [],
   "source": [
    "from nltk.corpus import stopwords\n",
    "import re\n",
    "def data_cleaner(tweet):\n",
    "    \n",
    "    # remove urls\n",
    "    tweet = re.sub(r'http\\S+', ' ', tweet)\n",
    "    \n",
    "    # remove html tags\n",
    "    tweet = re.sub(r'<.*?>',' ', tweet)\n",
    "    \n",
    "    # remove digits\n",
    "    tweet = re.sub(r'\\d+',' ', tweet)\n",
    "    \n",
    "    # remove hashtags\n",
    "    tweet = re.sub(r'#\\w+',' ', tweet)\n",
    "    \n",
    "    # remove mentions\n",
    "    tweet = re.sub(r'@\\w+',' ', tweet)\n",
    "    \n",
    "    #removing stop words\n",
    "    tweet = tweet.split()\n",
    "    tweet = \" \".join([word for word in tweet if not word in stop_words])\n",
    "    \n",
    "    return tweet\n",
    "\n",
    "\n",
    "stop_words = stopwords.words('english')"
   ]
  },
  {
   "cell_type": "code",
   "execution_count": 12,
   "metadata": {},
   "outputs": [],
   "source": [
    "X_train_raw_remove = list(map(preprocessing, X_train_raw))\n",
    "X_test_raw_remove = list(map(preprocessing, X_test_raw))"
   ]
  },
  {
   "cell_type": "code",
   "execution_count": 13,
   "metadata": {},
   "outputs": [],
   "source": [
    "X_train_raw_remove = list(map(data_cleaner, X_train_raw_remove))\n",
    "X_test_raw_remove = list(map(data_cleaner, X_test_raw_remove))"
   ]
  },
  {
   "cell_type": "code",
   "execution_count": 14,
   "metadata": {},
   "outputs": [],
   "source": [
    "# https://pythonspot.com/nltk-speech-tagging/\n",
    "\n",
    "n=WordNetLemmatizer()\n",
    "\n",
    "def clean_dt_with_postag(data):\n",
    "    tmp = tokenizer2.tokenize(data)\n",
    "    pt = pos_tag(tmp)\n",
    "    # select 'V','J','N','R' only\n",
    "    pt = [i for i in pt if i[1][0] in [\"V\",\"J\",\"N\",\"R\"]]\n",
    "    f = lambda x : n.lemmatize(x[0],'v') if (x[1][0] == \"V\" ) or (x[1] == 'RB') else n.lemmatize(x[0]) \n",
    "    res = list(map(f,pt))\n",
    "    \n",
    "    \n",
    "    return(\" \".join(res))"
   ]
  },
  {
   "cell_type": "code",
   "execution_count": 15,
   "metadata": {},
   "outputs": [],
   "source": [
    "X_train_raw_clean = list(map(clean_dt_with_postag, X_train_raw_remove))\n",
    "X_test_raw_clean = list(map(clean_dt_with_postag, X_test_raw_remove))"
   ]
  },
  {
   "cell_type": "code",
   "execution_count": 16,
   "metadata": {},
   "outputs": [
    {
     "data": {
      "text/plain": [
       "'anybody go radio station tomorrow see shawn friend go like make new friend meet smile'"
      ]
     },
     "execution_count": 16,
     "metadata": {},
     "output_type": "execute_result"
    }
   ],
   "source": [
    "#Let's see one example tweet\n",
    "X_train_raw_clean[1]"
   ]
  },
  {
   "cell_type": "markdown",
   "metadata": {},
   "source": [
    "### modelling"
   ]
  },
  {
   "cell_type": "code",
   "execution_count": 17,
   "metadata": {},
   "outputs": [],
   "source": [
    "from imblearn.pipeline import Pipeline, make_pipeline\n",
    "from sklearn.feature_extraction.text import CountVectorizer\n",
    "from sklearn.feature_extraction.text import TfidfTransformer\n",
    "from sklearn.naive_bayes import MultinomialNB\n",
    "from imblearn.over_sampling import SMOTE\n",
    "\n",
    "# Making the model \n",
    "sentences_m = X_train_raw_clean\n",
    "y_m = np.array(train_data[\"sentiment\"])\n",
    "sentences_train_m, sentences_test_m, y_train_m, y_test_m = train_test_split(sentences_m, y_m,\n",
    "                                                                    test_size = 0.1,stratify = y_m,\n",
    "                                                                    random_state=1000)\n",
    "# XGB labelling (words to number)\n",
    "y_train_m_xgb = np.where(y_train_m == \"neutral\",1,\n",
    "                    np.where(y_train_m == \"negative\",0,2))\n",
    "y_test_m_xgb = np.where(y_test_m == \"neutral\",1,\n",
    "                    np.where(y_test_m == \"negative\",0,2))\n",
    "                     "
   ]
  },
  {
   "cell_type": "code",
   "execution_count": 18,
   "metadata": {},
   "outputs": [],
   "source": [
    "BoW_vectorizer = CountVectorizer()\n",
    "\n",
    "#Build the feature set (vocabulary) and vectorise the Train dataset using BoW\n",
    "X_train_BoW = BoW_vectorizer.fit_transform(sentences_train_m)\n",
    "\n",
    "#Use the feature set (vocabulary) from Train to vectorise the Test dataset \n",
    "X_test_BoW = BoW_vectorizer.transform(sentences_test_m)"
   ]
  },
  {
   "cell_type": "code",
   "execution_count": 19,
   "metadata": {},
   "outputs": [],
   "source": [
    "from sklearn.feature_extraction.text import TfidfVectorizer\n",
    "\n",
    "tfidf_vectorizer = TfidfVectorizer()\n",
    "\n",
    "#Build the feature set (vocabulary) and vectorise the Tarin dataset using TFIDF\n",
    "X_train_tfidf = tfidf_vectorizer.fit_transform(sentences_train_m)\n",
    "\n",
    "#Use the feature set (vocabulary) from Train to vectorise the Test dataset \n",
    "X_test_tfidf = tfidf_vectorizer.transform(sentences_test_m)"
   ]
  },
  {
   "cell_type": "code",
   "execution_count": 20,
   "metadata": {},
   "outputs": [],
   "source": [
    "from sklearn.metrics import f1_score, make_scorer\n",
    "f1 = make_scorer(f1_score , average='macro')"
   ]
  },
  {
   "cell_type": "markdown",
   "metadata": {},
   "source": [
    "### for test data"
   ]
  },
  {
   "cell_type": "code",
   "execution_count": 21,
   "metadata": {},
   "outputs": [],
   "source": [
    "y_train_F = np.array(train_data[\"sentiment\"])\n",
    "y_train_F_xgb = np.where(y_train_F == \"neutral\",1,\n",
    "                    np.where(y_train_F == \"negative\",0,2))"
   ]
  },
  {
   "cell_type": "code",
   "execution_count": 22,
   "metadata": {},
   "outputs": [],
   "source": [
    "BoW_vectorizer = CountVectorizer()\n",
    "\n",
    "#Build the feature set (vocabulary) and vectorise the Train dataset using BoW\n",
    "X_train_BoW_F = BoW_vectorizer.fit_transform(X_train_raw_clean)\n",
    "\n",
    "#Use the feature set (vocabulary) from Train to vectorise the Test dataset \n",
    "X_test_BoW_F = BoW_vectorizer.transform(X_test_raw_clean)"
   ]
  },
  {
   "cell_type": "code",
   "execution_count": 23,
   "metadata": {},
   "outputs": [],
   "source": [
    "tfidf_vectorizer = TfidfVectorizer()\n",
    "\n",
    "#Build the feature set (vocabulary) and vectorise the Tarin dataset using TFIDF\n",
    "X_train_tfidf_F = tfidf_vectorizer.fit_transform(X_train_raw_clean)\n",
    "\n",
    "#Use the feature set (vocabulary) from Train to vectorise the Test dataset \n",
    "X_test_tfidf_F = tfidf_vectorizer.transform(X_test_raw_clean)"
   ]
  },
  {
   "cell_type": "code",
   "execution_count": 24,
   "metadata": {},
   "outputs": [],
   "source": [
    "tfidf_vectorizer = TfidfVectorizer(min_df = 2,analyzer = 'word', sublinear_tf = True, ngram_range = (1, 3),max_features = 1000)\n",
    "\n",
    "#Build the feature set (vocabulary) and vectorise the Tarin dataset using TFIDF\n",
    "X_train_tfidf_F = tfidf_vectorizer.fit_transform(X_train_raw_clean)\n",
    "\n",
    "#Use the feature set (vocabulary) from Train to vectorise the Test dataset \n",
    "X_test_tfidf_F = tfidf_vectorizer.transform(X_test_raw_clean)"
   ]
  },
  {
   "cell_type": "markdown",
   "metadata": {},
   "source": [
    "# Extreme Gradient Boosting(Xgboost)"
   ]
  },
  {
   "cell_type": "markdown",
   "metadata": {},
   "source": [
    "### < BOW >"
   ]
  },
  {
   "cell_type": "markdown",
   "metadata": {},
   "source": [
    "#### 1. split Train"
   ]
  },
  {
   "cell_type": "code",
   "execution_count": 25,
   "metadata": {},
   "outputs": [],
   "source": [
    "from xgboost import XGBClassifier"
   ]
  },
  {
   "cell_type": "code",
   "execution_count": 26,
   "metadata": {
    "scrolled": false
   },
   "outputs": [
    {
     "name": "stdout",
     "output_type": "stream",
     "text": [
      "[20:47:30] WARNING: C:/Users/Administrator/workspace/xgboost-win64_release_1.6.0/src/learner.cc:627: \n",
      "Parameters: { \"silent\" } might not be used.\n",
      "\n",
      "  This could be a false alarm, with some parameters getting used by language bindings but\n",
      "  then being mistakenly passed down to XGBoost core, or some parameter actually being used\n",
      "  but getting flagged wrongly here. Please open an issue if you find any such cases.\n",
      "\n",
      "\n",
      "Train dataset Accuracy: 0.6644\n",
      "              precision    recall  f1-score   support\n",
      "\n",
      "           0       0.58      0.34      0.43       372\n",
      "           1       0.68      0.85      0.75      1266\n",
      "           2       0.66      0.46      0.54       543\n",
      "\n",
      "    accuracy                           0.66      2181\n",
      "   macro avg       0.64      0.55      0.57      2181\n",
      "weighted avg       0.66      0.66      0.64      2181\n",
      "\n",
      "[[ 127  227   18]\n",
      " [  81 1073  112]\n",
      " [  10  284  249]]\n"
     ]
    },
    {
     "name": "stderr",
     "output_type": "stream",
     "text": [
      "C:\\Users\\tommy\\anaconda3\\lib\\site-packages\\sklearn\\utils\\deprecation.py:87: FutureWarning: Function plot_confusion_matrix is deprecated; Function `plot_confusion_matrix` is deprecated in 1.0 and will be removed in 1.2. Use one of the class methods: ConfusionMatrixDisplay.from_predictions or ConfusionMatrixDisplay.from_estimator.\n",
      "  warnings.warn(msg, category=FutureWarning)\n"
     ]
    },
    {
     "data": {
      "text/plain": [
       "Text(0.5, 1.0, 'Confusion Matrix')"
      ]
     },
     "execution_count": 26,
     "metadata": {},
     "output_type": "execute_result"
    },
    {
     "data": {
      "image/png": "[encoded data removed]",
      "text/plain": [
       "<Figure size 432x288 with 2 Axes>"
      ]
     },
     "metadata": {
      "needs_background": "light"
     },
     "output_type": "display_data"
    }
   ],
   "source": [
    "# make model\n",
    "model=XGBClassifier(booster='dart', \n",
    "                    colsample_bylevel=0.9, \n",
    "                    colsample_bytree=0.8, \n",
    "                    gamma=0, \n",
    "                    max_depth=8, \n",
    "                    min_child_weight=3, \n",
    "                    n_estimators=500, \n",
    "                    nthread=4, \n",
    "                    #multi:softmax / multi:softprob\n",
    "                    objective='multi:softmax', \n",
    "                    random_state=2, \n",
    "                    silent= True)\n",
    "\n",
    "\n",
    "xgb_model = model.fit(X_train_BoW, y_train_m_xgb)\n",
    "\n",
    "# predict\n",
    "xgb_pred = xgb_model.predict(X_test_BoW)\n",
    "\n",
    "\n",
    "print('Test dataset Accuracy: {0:.4f}'.format(accuracy_score(y_test_m_xgb,xgb_pred)))\n",
    "print(metrics.classification_report(y_test_m_xgb , xgb_pred))\n",
    "print(metrics.confusion_matrix(y_test_m_xgb , xgb_pred))\n",
    "\n",
    "labels = ['negative','neutral','positive']\n",
    "\n",
    "# Confusion matrix \n",
    "plot = plot_confusion_matrix(xgb_model, # classifier model\n",
    "                             X_test_BoW, y_test_m_xgb, #  predicted data, answer of predicted value\n",
    "                             cmap='Blues', # color map(plt.cm.Reds, plt.cm.rainbow etc)\n",
    "                             display_labels = labels,\n",
    "                             normalize=None) # select option:'true', 'pred', 'all'. default=None\n",
    "plot.ax_.set_title('Confusion Matrix')"
   ]
  },
  {
   "cell_type": "markdown",
   "metadata": {},
   "source": [
    "#### 2. full Train"
   ]
  },
  {
   "cell_type": "code",
   "execution_count": 27,
   "metadata": {},
   "outputs": [
    {
     "name": "stdout",
     "output_type": "stream",
     "text": [
      "[20:55:39] WARNING: C:/Users/Administrator/workspace/xgboost-win64_release_1.6.0/src/learner.cc:627: \n",
      "Parameters: { \"silent\" } might not be used.\n",
      "\n",
      "  This could be a false alarm, with some parameters getting used by language bindings but\n",
      "  then being mistakenly passed down to XGBoost core, or some parameter actually being used\n",
      "  but getting flagged wrongly here. Please open an issue if you find any such cases.\n",
      "\n",
      "\n",
      "Train dataset Accuracy: 0.7912\n",
      "              precision    recall  f1-score   support\n",
      "\n",
      "           0       0.85      0.55      0.66      3715\n",
      "           1       0.77      0.93      0.84     12659\n",
      "           2       0.85      0.63      0.72      5428\n",
      "\n",
      "    accuracy                           0.79     21802\n",
      "   macro avg       0.82      0.70      0.74     21802\n",
      "weighted avg       0.80      0.79      0.78     21802\n",
      "\n",
      "[[ 2031  1590    94]\n",
      " [  319 11824   516]\n",
      " [   49  1984  3395]]\n"
     ]
    },
    {
     "name": "stderr",
     "output_type": "stream",
     "text": [
      "C:\\Users\\tommy\\anaconda3\\lib\\site-packages\\ipykernel_launcher.py:25: SettingWithCopyWarning: \n",
      "A value is trying to be set on a copy of a slice from a DataFrame.\n",
      "Try using .loc[row_indexer,col_indexer] = value instead\n",
      "\n",
      "See the caveats in the documentation: https://pandas.pydata.org/pandas-docs/stable/user_guide/indexing.html#returning-a-view-versus-a-copy\n"
     ]
    }
   ],
   "source": [
    "# make model\n",
    "XGB=XGBClassifier(booster='dart', \n",
    "                    colsample_bylevel=0.9, \n",
    "                    colsample_bytree=0.8, \n",
    "                    gamma=0, \n",
    "                    max_depth=8, \n",
    "                    min_child_weight=3, \n",
    "                    n_estimators=500, \n",
    "                    nthread=4, \n",
    "                    objective='multi:softmax', \n",
    "                    random_state=2, \n",
    "                    silent= True)\n",
    "XGB.fit(X_train_BoW_F, y_train_F_xgb)\n",
    "\n",
    "XGB_pred_Full_BoW = XGB.predict(X_train_BoW_F)\n",
    "print('Train dataset Accuracy: {0:.4f}'.format(accuracy_score(y_train_F_xgb,XGB_pred_Full_BoW)))\n",
    "print(metrics.classification_report(y_train_F_xgb , XGB_pred_Full_BoW))\n",
    "print(metrics.confusion_matrix(y_train_F_xgb , XGB_pred_Full_BoW))\n",
    "\n",
    "xgb_pred = XGB.predict(X_test_BoW_F)\n",
    "\n",
    "test_data[\"sentiment\"] = xgb_pred\n",
    "test_data_final = test_data[['id','sentiment']]\n",
    "test_data_final['sentiment'] = np.where(test_data_final['sentiment'] == 0, \"neutral\",\n",
    "                                        np.where(test_data_final['sentiment'] == 1, \"negative\",\"positive\"))\n",
    "test_data_final.to_csv(\"test_data_final_XGB_BOW_dart.csv\",index = None)"
   ]
  },
  {
   "cell_type": "markdown",
   "metadata": {},
   "source": [
    "### < TF-IDF >"
   ]
  },
  {
   "cell_type": "markdown",
   "metadata": {},
   "source": [
    "#### 1. split Train"
   ]
  },
  {
   "cell_type": "code",
   "execution_count": 28,
   "metadata": {},
   "outputs": [
    {
     "name": "stdout",
     "output_type": "stream",
     "text": [
      "[21:05:02] WARNING: C:/Users/Administrator/workspace/xgboost-win64_release_1.6.0/src/learner.cc:627: \n",
      "Parameters: { \"silent\" } might not be used.\n",
      "\n",
      "  This could be a false alarm, with some parameters getting used by language bindings but\n",
      "  then being mistakenly passed down to XGBoost core, or some parameter actually being used\n",
      "  but getting flagged wrongly here. Please open an issue if you find any such cases.\n",
      "\n",
      "\n",
      "Train dataset Accuracy: 0.6584\n",
      "              precision    recall  f1-score   support\n",
      "\n",
      "           0       0.58      0.34      0.43       372\n",
      "           1       0.68      0.84      0.75      1266\n",
      "           2       0.62      0.46      0.53       543\n",
      "\n",
      "    accuracy                           0.66      2181\n",
      "   macro avg       0.63      0.55      0.57      2181\n",
      "weighted avg       0.65      0.66      0.64      2181\n",
      "\n",
      "[[ 125  225   22]\n",
      " [  74 1060  132]\n",
      " [  15  277  251]]\n"
     ]
    },
    {
     "name": "stderr",
     "output_type": "stream",
     "text": [
      "C:\\Users\\tommy\\anaconda3\\lib\\site-packages\\sklearn\\utils\\deprecation.py:87: FutureWarning: Function plot_confusion_matrix is deprecated; Function `plot_confusion_matrix` is deprecated in 1.0 and will be removed in 1.2. Use one of the class methods: ConfusionMatrixDisplay.from_predictions or ConfusionMatrixDisplay.from_estimator.\n",
      "  warnings.warn(msg, category=FutureWarning)\n"
     ]
    },
    {
     "data": {
      "text/plain": [
       "Text(0.5, 1.0, 'Confusion Matrix')"
      ]
     },
     "execution_count": 28,
     "metadata": {},
     "output_type": "execute_result"
    },
    {
     "data": {
      "image/png": "[encoded data removed]",
      "text/plain": [
       "<Figure size 432x288 with 2 Axes>"
      ]
     },
     "metadata": {
      "needs_background": "light"
     },
     "output_type": "display_data"
    }
   ],
   "source": [
    "# make model\n",
    "model=XGBClassifier(booster='dart', \n",
    "                    colsample_bylevel=0.9, \n",
    "                    colsample_bytree=0.8, \n",
    "                    gamma=0, \n",
    "                    max_depth=8, \n",
    "                    min_child_weight=3, \n",
    "                    n_estimators=500, \n",
    "                    nthread=4, \n",
    "                    #multi:softmax / multi:softprob\n",
    "                    objective='multi:softmax', \n",
    "                    random_state=2, \n",
    "                    silent= True)\n",
    "\n",
    "\n",
    "xgb_model = model.fit(X_train_tfidf, y_train_m_xgb)\n",
    "\n",
    "# predict\n",
    "xgb_pred = xgb_model.predict(X_test_tfidf)\n",
    "\n",
    "\n",
    "print('Test dataset Accuracy: {0:.4f}'.format(accuracy_score(y_test_m_xgb,xgb_pred)))\n",
    "print(metrics.classification_report(y_test_m_xgb , xgb_pred))\n",
    "print(metrics.confusion_matrix(y_test_m_xgb , xgb_pred))\n",
    "\n",
    "# Confusion matrix \n",
    "plot = plot_confusion_matrix(xgb_model, # classifier model\n",
    "                             X_test_BoW, y_test_m_xgb, #  predicted data, answer of predicted value\n",
    "                             display_labels = labels,\n",
    "                             cmap='Blues', # color map(plt.cm.Reds, plt.cm.rainbow etc)\n",
    "                             normalize=None) # select option:'true', 'pred', 'all'. default=None\n",
    "plot.ax_.set_title('Confusion Matrix')"
   ]
  },
  {
   "cell_type": "markdown",
   "metadata": {},
   "source": [
    "#### 2. full Train"
   ]
  },
  {
   "cell_type": "code",
   "execution_count": 29,
   "metadata": {},
   "outputs": [
    {
     "name": "stdout",
     "output_type": "stream",
     "text": [
      "[21:13:37] WARNING: C:/Users/Administrator/workspace/xgboost-win64_release_1.6.0/src/learner.cc:627: \n",
      "Parameters: { \"silent\" } might not be used.\n",
      "\n",
      "  This could be a false alarm, with some parameters getting used by language bindings but\n",
      "  then being mistakenly passed down to XGBoost core, or some parameter actually being used\n",
      "  but getting flagged wrongly here. Please open an issue if you find any such cases.\n",
      "\n",
      "\n",
      "Train dataset Accuracy: 0.8617\n",
      "              precision    recall  f1-score   support\n",
      "\n",
      "           0       0.93      0.67      0.78      3715\n",
      "           1       0.83      0.97      0.89     12659\n",
      "           2       0.92      0.74      0.82      5428\n",
      "\n",
      "    accuracy                           0.86     21802\n",
      "   macro avg       0.90      0.79      0.83     21802\n",
      "weighted avg       0.87      0.86      0.86     21802\n",
      "\n",
      "[[ 2485  1142    88]\n",
      " [  144 12265   250]\n",
      " [   36  1355  4037]]\n"
     ]
    },
    {
     "name": "stderr",
     "output_type": "stream",
     "text": [
      "C:\\Users\\tommy\\anaconda3\\lib\\site-packages\\ipykernel_launcher.py:26: SettingWithCopyWarning: \n",
      "A value is trying to be set on a copy of a slice from a DataFrame.\n",
      "Try using .loc[row_indexer,col_indexer] = value instead\n",
      "\n",
      "See the caveats in the documentation: https://pandas.pydata.org/pandas-docs/stable/user_guide/indexing.html#returning-a-view-versus-a-copy\n"
     ]
    }
   ],
   "source": [
    "# make model\n",
    "XGB=XGBClassifier(booster='dart', \n",
    "                    colsample_bylevel=0.9, \n",
    "                    colsample_bytree=0.8, \n",
    "                    gamma=0, \n",
    "                    max_depth=8, \n",
    "                    min_child_weight=3, \n",
    "                    n_estimators=500, \n",
    "                    nthread=4, \n",
    "                    objective='multi:softmax', \n",
    "                    random_state=2, \n",
    "                    silent= True)\n",
    "\n",
    "XGB.fit(X_train_tfidf_F, y_train_F_xgb)\n",
    "\n",
    "XGB_pred_Full_tfidf = XGB.predict(X_train_tfidf_F)\n",
    "print('Train dataset Accuracy: {0:.4f}'.format(accuracy_score(y_train_F_xgb,XGB_pred_Full_tfidf)))\n",
    "print(metrics.classification_report(y_train_F_xgb , XGB_pred_Full_tfidf))\n",
    "print(metrics.confusion_matrix(y_train_F_xgb , XGB_pred_Full_tfidf))\n",
    "\n",
    "xgb_pred = XGB.predict(X_test_tfidf_F)\n",
    "\n",
    "test_data[\"sentiment\"] = xgb_pred\n",
    "test_data_final = test_data[['id','sentiment']]\n",
    "test_data_final['sentiment'] = np.where(test_data_final['sentiment'] == 0, \"neutral\",\n",
    "                                        np.where(test_data_final['sentiment'] == 1, \"negative\",\"positive\"))\n",
    "test_data_final.to_csv(\"test_data_final_XGB_tfidf_dart.csv\",index = None)"
   ]
  },
  {
   "cell_type": "markdown",
   "metadata": {},
   "source": [
    "# Decision Tree"
   ]
  },
  {
   "cell_type": "markdown",
   "metadata": {},
   "source": [
    "### < BOW >"
   ]
  },
  {
   "cell_type": "markdown",
   "metadata": {},
   "source": [
    "#### 1. split Train"
   ]
  },
  {
   "cell_type": "code",
   "execution_count": 30,
   "metadata": {},
   "outputs": [
    {
     "name": "stdout",
     "output_type": "stream",
     "text": [
      "Train dataset Accuracy: 0.6071\n",
      "              precision    recall  f1-score   support\n",
      "\n",
      "    negative       0.00      0.00      0.00       372\n",
      "     neutral       0.60      0.96      0.74      1266\n",
      "    positive       0.64      0.19      0.29       543\n",
      "\n",
      "    accuracy                           0.61      2181\n",
      "   macro avg       0.42      0.38      0.35      2181\n",
      "weighted avg       0.51      0.61      0.50      2181\n",
      "\n",
      "[[   0  360   12]\n",
      " [   0 1221   45]\n",
      " [   0  440  103]]\n"
     ]
    },
    {
     "name": "stderr",
     "output_type": "stream",
     "text": [
      "C:\\Users\\tommy\\anaconda3\\lib\\site-packages\\sklearn\\metrics\\_classification.py:1318: UndefinedMetricWarning: Precision and F-score are ill-defined and being set to 0.0 in labels with no predicted samples. Use `zero_division` parameter to control this behavior.\n",
      "  _warn_prf(average, modifier, msg_start, len(result))\n",
      "C:\\Users\\tommy\\anaconda3\\lib\\site-packages\\sklearn\\metrics\\_classification.py:1318: UndefinedMetricWarning: Precision and F-score are ill-defined and being set to 0.0 in labels with no predicted samples. Use `zero_division` parameter to control this behavior.\n",
      "  _warn_prf(average, modifier, msg_start, len(result))\n",
      "C:\\Users\\tommy\\anaconda3\\lib\\site-packages\\sklearn\\metrics\\_classification.py:1318: UndefinedMetricWarning: Precision and F-score are ill-defined and being set to 0.0 in labels with no predicted samples. Use `zero_division` parameter to control this behavior.\n",
      "  _warn_prf(average, modifier, msg_start, len(result))\n",
      "C:\\Users\\tommy\\anaconda3\\lib\\site-packages\\sklearn\\utils\\deprecation.py:87: FutureWarning: Function plot_confusion_matrix is deprecated; Function `plot_confusion_matrix` is deprecated in 1.0 and will be removed in 1.2. Use one of the class methods: ConfusionMatrixDisplay.from_predictions or ConfusionMatrixDisplay.from_estimator.\n",
      "  warnings.warn(msg, category=FutureWarning)\n"
     ]
    },
    {
     "data": {
      "text/plain": [
       "Text(0.5, 1.0, 'Confusion Matrix')"
      ]
     },
     "execution_count": 30,
     "metadata": {},
     "output_type": "execute_result"
    },
    {
     "data": {
      "image/png": "[encoded data removed]",
      "text/plain": [
       "<Figure size 432x288 with 2 Axes>"
      ]
     },
     "metadata": {
      "needs_background": "light"
     },
     "output_type": "display_data"
    }
   ],
   "source": [
    "dtree = DecisionTreeClassifier()\n",
    "### set parameters with dictionaty formation\n",
    "parameters = {'max_depth':[2,3,4,5], 'min_samples_split':[2,3]}\n",
    "\n",
    "grid_dtree = GridSearchCV(dtree, param_grid=parameters, cv=5, refit=True)\n",
    "grid_dtree.fit(X_train_BoW, y_train_m)\n",
    "dtree = grid_dtree.best_estimator_\n",
    "\n",
    "DT_pred = dtree.predict(X_test_BoW)\n",
    "print('Test dataset Accuracy: {0:.4f}'.format(accuracy_score(y_test_m,DT_pred)))\n",
    "print(metrics.classification_report(y_test_m , DT_pred))\n",
    "print(metrics.confusion_matrix(y_test_m , DT_pred))\n",
    "\n",
    "# Confusion matrix \n",
    "plot = plot_confusion_matrix(dtree, # classifier model\n",
    "                             X_test_BoW, y_test_m, #  predicted data, answer of predicted value\n",
    "                             cmap='Blues', # color map(plt.cm.Reds, plt.cm.rainbow etc)\n",
    "                             normalize=None) # select option:'true', 'pred', 'all'. default=None\n",
    "plot.ax_.set_title('Confusion Matrix')"
   ]
  },
  {
   "cell_type": "markdown",
   "metadata": {},
   "source": [
    "#### 2.full Train"
   ]
  },
  {
   "cell_type": "code",
   "execution_count": 31,
   "metadata": {},
   "outputs": [
    {
     "name": "stdout",
     "output_type": "stream",
     "text": [
      "테스트 데이터 세트 정확도: 0.6109\n",
      "              precision    recall  f1-score   support\n",
      "\n",
      "    negative       0.90      0.00      0.00      3715\n",
      "     neutral       0.61      0.95      0.74     12659\n",
      "    positive       0.64      0.23      0.34      5428\n",
      "\n",
      "    accuracy                           0.61     21802\n",
      "   macro avg       0.71      0.39      0.36     21802\n",
      "weighted avg       0.66      0.61      0.52     21802\n",
      "\n",
      "[[    9  3587   119]\n",
      " [    1 12068   590]\n",
      " [    0  4187  1241]]\n"
     ]
    }
   ],
   "source": [
    "dtree = DecisionTreeClassifier()\n",
    "parameters = {'max_depth':[2,3,4,5], 'min_samples_split':[2,3]}\n",
    "\n",
    "grid_dtree = GridSearchCV(dtree, param_grid=parameters, cv=5, refit=True)\n",
    "grid_dtree.fit(X_train_BoW_F, y_train_F)\n",
    "dtree = grid_dtree.best_estimator_\n",
    "\n",
    "DT_pred = dtree.predict(X_train_BoW_F)\n",
    "print('Train dataset Accuracy: {0:.4f}'.format(accuracy_score(y_train_F,DT_pred)))\n",
    "print(metrics.classification_report(y_train_F , DT_pred))\n",
    "print(metrics.confusion_matrix(y_train_F , DT_pred))\n",
    "\n",
    "DT_pred = dtree.predict(X_test_BoW_F)\n",
    "\n",
    "test_data[\"sentiment\"] = DT_pred\n",
    "test_data_final = test_data[['id','sentiment']]\n",
    "test_data_final.to_csv(\"test_data_final_DT_BOW.csv\",index = None)"
   ]
  },
  {
   "cell_type": "markdown",
   "metadata": {},
   "source": [
    "### < TF_IDF >"
   ]
  },
  {
   "cell_type": "markdown",
   "metadata": {},
   "source": [
    "#### 1. split Train"
   ]
  },
  {
   "cell_type": "code",
   "execution_count": 32,
   "metadata": {},
   "outputs": [
    {
     "name": "stdout",
     "output_type": "stream",
     "text": [
      "Train dataset Accuracy: 0.6057\n",
      "              precision    recall  f1-score   support\n",
      "\n",
      "    negative       0.00      0.00      0.00       372\n",
      "     neutral       0.60      0.96      0.74      1266\n",
      "    positive       0.64      0.18      0.29       543\n",
      "\n",
      "    accuracy                           0.61      2181\n",
      "   macro avg       0.41      0.38      0.34      2181\n",
      "weighted avg       0.51      0.61      0.50      2181\n",
      "\n",
      "[[   0  360   12]\n",
      " [   0 1221   45]\n",
      " [   0  443  100]]\n"
     ]
    },
    {
     "name": "stderr",
     "output_type": "stream",
     "text": [
      "C:\\Users\\tommy\\anaconda3\\lib\\site-packages\\sklearn\\metrics\\_classification.py:1318: UndefinedMetricWarning: Precision and F-score are ill-defined and being set to 0.0 in labels with no predicted samples. Use `zero_division` parameter to control this behavior.\n",
      "  _warn_prf(average, modifier, msg_start, len(result))\n",
      "C:\\Users\\tommy\\anaconda3\\lib\\site-packages\\sklearn\\metrics\\_classification.py:1318: UndefinedMetricWarning: Precision and F-score are ill-defined and being set to 0.0 in labels with no predicted samples. Use `zero_division` parameter to control this behavior.\n",
      "  _warn_prf(average, modifier, msg_start, len(result))\n",
      "C:\\Users\\tommy\\anaconda3\\lib\\site-packages\\sklearn\\metrics\\_classification.py:1318: UndefinedMetricWarning: Precision and F-score are ill-defined and being set to 0.0 in labels with no predicted samples. Use `zero_division` parameter to control this behavior.\n",
      "  _warn_prf(average, modifier, msg_start, len(result))\n",
      "C:\\Users\\tommy\\anaconda3\\lib\\site-packages\\sklearn\\utils\\deprecation.py:87: FutureWarning: Function plot_confusion_matrix is deprecated; Function `plot_confusion_matrix` is deprecated in 1.0 and will be removed in 1.2. Use one of the class methods: ConfusionMatrixDisplay.from_predictions or ConfusionMatrixDisplay.from_estimator.\n",
      "  warnings.warn(msg, category=FutureWarning)\n"
     ]
    },
    {
     "data": {
      "text/plain": [
       "Text(0.5, 1.0, 'Confusion Matrix')"
      ]
     },
     "execution_count": 32,
     "metadata": {},
     "output_type": "execute_result"
    },
    {
     "data": {
      "image/png": "[encoded data removed]",
      "text/plain": [
       "<Figure size 432x288 with 2 Axes>"
      ]
     },
     "metadata": {
      "needs_background": "light"
     },
     "output_type": "display_data"
    }
   ],
   "source": [
    "dtree = DecisionTreeClassifier()\n",
    "parameters = {'max_depth':[2,3,4,5], 'min_samples_split':[2,3]}\n",
    "\n",
    "grid_dtree = GridSearchCV(dtree, param_grid=parameters, cv=5, refit=True)\n",
    "grid_dtree.fit(X_train_tfidf, y_train_m)\n",
    "dtree = grid_dtree.best_estimator_\n",
    "\n",
    "DT_pred = dtree.predict(X_test_tfidf)\n",
    "print('Test dataset Accuracy: {0:.4f}'.format(accuracy_score(y_test_m,DT_pred)))\n",
    "print(metrics.classification_report(y_test_m , DT_pred))\n",
    "print(metrics.confusion_matrix(y_test_m , DT_pred))\n",
    "\n",
    "\n",
    "# Confusion matrix \n",
    "plot = plot_confusion_matrix(dtree, # classifier model\n",
    "                             X_test_BoW, y_test_m, #  predicted data, answer of predicted value\n",
    "                             cmap='Blues', # color map(plt.cm.Reds, plt.cm.rainbow etc)\n",
    "                             normalize=None) # select option:'true', 'pred', 'all'. default=None\n",
    "plot.ax_.set_title('Confusion Matrix')"
   ]
  },
  {
   "cell_type": "markdown",
   "metadata": {},
   "source": [
    "#### 2.full Train"
   ]
  },
  {
   "cell_type": "code",
   "execution_count": 33,
   "metadata": {},
   "outputs": [
    {
     "name": "stdout",
     "output_type": "stream",
     "text": [
      "Train dataset Accuracy: 0.5865\n"
     ]
    },
    {
     "name": "stderr",
     "output_type": "stream",
     "text": [
      "C:\\Users\\tommy\\anaconda3\\lib\\site-packages\\sklearn\\metrics\\_classification.py:1318: UndefinedMetricWarning: Precision and F-score are ill-defined and being set to 0.0 in labels with no predicted samples. Use `zero_division` parameter to control this behavior.\n",
      "  _warn_prf(average, modifier, msg_start, len(result))\n",
      "C:\\Users\\tommy\\anaconda3\\lib\\site-packages\\sklearn\\metrics\\_classification.py:1318: UndefinedMetricWarning: Precision and F-score are ill-defined and being set to 0.0 in labels with no predicted samples. Use `zero_division` parameter to control this behavior.\n",
      "  _warn_prf(average, modifier, msg_start, len(result))\n"
     ]
    },
    {
     "name": "stdout",
     "output_type": "stream",
     "text": [
      "              precision    recall  f1-score   support\n",
      "\n",
      "    negative       0.00      0.00      0.00      3715\n",
      "     neutral       0.58      1.00      0.74     12659\n",
      "    positive       0.79      0.03      0.06      5428\n",
      "\n",
      "    accuracy                           0.59     21802\n",
      "   macro avg       0.46      0.34      0.27     21802\n",
      "weighted avg       0.54      0.59      0.44     21802\n",
      "\n",
      "[[    0  3713     2]\n",
      " [    0 12615    44]\n",
      " [    0  5257   171]]\n"
     ]
    },
    {
     "name": "stderr",
     "output_type": "stream",
     "text": [
      "C:\\Users\\tommy\\anaconda3\\lib\\site-packages\\sklearn\\metrics\\_classification.py:1318: UndefinedMetricWarning: Precision and F-score are ill-defined and being set to 0.0 in labels with no predicted samples. Use `zero_division` parameter to control this behavior.\n",
      "  _warn_prf(average, modifier, msg_start, len(result))\n"
     ]
    }
   ],
   "source": [
    "dtree = RandomForestClassifier()\n",
    "parameters = {'max_depth':[2,3,4,5], 'min_samples_split':[2,3]}\n",
    "\n",
    "\n",
    "grid_dtree = GridSearchCV(dtree, param_grid=parameters, cv=5, refit=True)\n",
    "grid_dtree.fit(X_train_tfidf_F, y_train_F)\n",
    "dtree = grid_dtree.best_estimator_\n",
    "\n",
    "DT_pred = dtree.predict(X_train_tfidf_F)\n",
    "print('Train dataset Accuracy: {0:.4f}'.format(accuracy_score(y_train_F,DT_pred)))\n",
    "print(metrics.classification_report(y_train_F , DT_pred))\n",
    "print(metrics.confusion_matrix(y_train_F , DT_pred))\n",
    "\n",
    "DT_pred = dtree.predict(X_test_tfidf_F)\n",
    "\n",
    "test_data[\"sentiment\"] = DT_pred\n",
    "test_data_final = test_data[['id','sentiment']]\n",
    "test_data_final.to_csv(\"test_data_final_DT_TFIDF.csv\",index = None)"
   ]
  },
  {
   "cell_type": "markdown",
   "metadata": {},
   "source": [
    "# SVM"
   ]
  },
  {
   "cell_type": "markdown",
   "metadata": {},
   "source": [
    "### < BOW >"
   ]
  },
  {
   "cell_type": "markdown",
   "metadata": {},
   "source": [
    "#### 1. split Train"
   ]
  },
  {
   "cell_type": "code",
   "execution_count": 34,
   "metadata": {},
   "outputs": [
    {
     "name": "stdout",
     "output_type": "stream",
     "text": [
      "Train dataset Accuracy: 0.6676\n",
      "              precision    recall  f1-score   support\n",
      "\n",
      "    negative       0.61      0.35      0.45       372\n",
      "     neutral       0.68      0.85      0.76      1266\n",
      "    positive       0.65      0.45      0.53       543\n",
      "\n",
      "    accuracy                           0.67      2181\n",
      "   macro avg       0.65      0.55      0.58      2181\n",
      "weighted avg       0.66      0.67      0.65      2181\n",
      "\n",
      "[[ 132  224   16]\n",
      " [  70 1079  117]\n",
      " [  13  285  245]]\n"
     ]
    },
    {
     "name": "stderr",
     "output_type": "stream",
     "text": [
      "C:\\Users\\tommy\\anaconda3\\lib\\site-packages\\sklearn\\utils\\deprecation.py:87: FutureWarning: Function plot_confusion_matrix is deprecated; Function `plot_confusion_matrix` is deprecated in 1.0 and will be removed in 1.2. Use one of the class methods: ConfusionMatrixDisplay.from_predictions or ConfusionMatrixDisplay.from_estimator.\n",
      "  warnings.warn(msg, category=FutureWarning)\n"
     ]
    },
    {
     "data": {
      "text/plain": [
       "Text(0.5, 1.0, 'Confusion Matrix')"
      ]
     },
     "execution_count": 34,
     "metadata": {},
     "output_type": "execute_result"
    },
    {
     "data": {
      "image/png": "[encoded data removed]",
      "text/plain": [
       "<Figure size 432x288 with 2 Axes>"
      ]
     },
     "metadata": {
      "needs_background": "light"
     },
     "output_type": "display_data"
    }
   ],
   "source": [
    "param_grid = {'C': [0.001, 0.01, 0.1, 1, 10, 100],\n",
    "             'gamma': [0.001, 0.01, 0.1, 1, 10, 100] }\n",
    "\n",
    "svm = SVC(kernel='rbf')\n",
    "\n",
    "grid_svm = GridSearchCV(svm, param_grid=param_grid, cv=5, refit=True)\n",
    "grid_svm.fit(X_train_BoW, y_train_m)\n",
    "\n",
    "svm = grid_svm.best_estimator_\n",
    "\n",
    "svm_pred = svm.predict(X_test_BoW)\n",
    "print('Test dataset Accuracy: {0:.4f}'.format(accuracy_score(y_test_m,svm_pred)))\n",
    "print(metrics.classification_report(y_test_m , svm_pred))\n",
    "print(metrics.confusion_matrix(y_test_m , svm_pred))\n",
    "\n",
    "# Confusion matrix \n",
    "plot = plot_confusion_matrix(svm, # classifier model\n",
    "                             X_test_BoW, y_test_m, #  predicted data, answer of predicted value\n",
    "                             cmap='Blues', # color map(plt.cm.Reds, plt.cm.rainbow etc)\n",
    "                             normalize=None) # select option:'true', 'pred', 'all'. default=None\n",
    "plot.ax_.set_title('Confusion Matrix')"
   ]
  },
  {
   "cell_type": "markdown",
   "metadata": {},
   "source": [
    "#### 2.full Train"
   ]
  },
  {
   "cell_type": "code",
   "execution_count": 35,
   "metadata": {},
   "outputs": [
    {
     "name": "stdout",
     "output_type": "stream",
     "text": [
      "Train dataset Accuracy: 0.8562\n",
      "              precision    recall  f1-score   support\n",
      "\n",
      "    negative       0.94      0.70      0.80      3715\n",
      "     neutral       0.83      0.96      0.89     12659\n",
      "    positive       0.90      0.72      0.80      5428\n",
      "\n",
      "    accuracy                           0.86     21802\n",
      "   macro avg       0.89      0.79      0.83     21802\n",
      "weighted avg       0.86      0.86      0.85     21802\n",
      "\n",
      "[[ 2604  1044    67]\n",
      " [  125 12172   362]\n",
      " [   43  1495  3890]]\n"
     ]
    }
   ],
   "source": [
    "svm = SVC(kernel='rbf')\n",
    "param_grid = {'C': [0.001, 0.01, 0.1, 1, 10, 100],\n",
    "             'gamma': [0.001, 0.01, 0.1, 1, 10, 100] }\n",
    "grid_svm = GridSearchCV(svm, param_grid=param_grid, cv=5, refit=True)\n",
    "\n",
    "grid_svm.fit(X_train_BoW_F, y_train_F)\n",
    "\n",
    "svm = grid_svm.best_estimator_\n",
    "\n",
    "svm_pred = svm.predict(X_train_BoW_F)\n",
    "print('Train dataset Accuracy: {0:.4f}'.format(accuracy_score(y_train_F,svm_pred)))\n",
    "print(metrics.classification_report(y_train_F , svm_pred))\n",
    "print(metrics.confusion_matrix(y_train_F , svm_pred))\n",
    "\n",
    "svm_pred = svm.predict(X_test_BoW_F)\n",
    "\n",
    "test_data[\"sentiment\"] = svm_pred\n",
    "test_data_final = test_data[['id','sentiment']]\n",
    "test_data_final.to_csv(\"test_data_final_svm_BOW.csv\",index = None)"
   ]
  },
  {
   "cell_type": "markdown",
   "metadata": {},
   "source": [
    "### < TF_IDF >"
   ]
  },
  {
   "cell_type": "markdown",
   "metadata": {},
   "source": [
    "#### 1. split Train"
   ]
  },
  {
   "cell_type": "code",
   "execution_count": 36,
   "metadata": {},
   "outputs": [
    {
     "name": "stdout",
     "output_type": "stream",
     "text": [
      "Train dataset Accuracy: 0.6547\n",
      "              precision    recall  f1-score   support\n",
      "\n",
      "    negative       0.55      0.40      0.46       372\n",
      "     neutral       0.69      0.80      0.74      1266\n",
      "    positive       0.61      0.50      0.55       543\n",
      "\n",
      "    accuracy                           0.65      2181\n",
      "   macro avg       0.62      0.56      0.58      2181\n",
      "weighted avg       0.64      0.65      0.64      2181\n",
      "\n",
      "[[ 148  204   20]\n",
      " [ 107 1008  151]\n",
      " [  15  256  272]]\n"
     ]
    },
    {
     "name": "stderr",
     "output_type": "stream",
     "text": [
      "C:\\Users\\tommy\\anaconda3\\lib\\site-packages\\sklearn\\utils\\deprecation.py:87: FutureWarning: Function plot_confusion_matrix is deprecated; Function `plot_confusion_matrix` is deprecated in 1.0 and will be removed in 1.2. Use one of the class methods: ConfusionMatrixDisplay.from_predictions or ConfusionMatrixDisplay.from_estimator.\n",
      "  warnings.warn(msg, category=FutureWarning)\n"
     ]
    },
    {
     "data": {
      "text/plain": [
       "Text(0.5, 1.0, 'Confusion Matrix')"
      ]
     },
     "execution_count": 36,
     "metadata": {},
     "output_type": "execute_result"
    },
    {
     "data": {
      "image/png": "[encoded data removed]",
      "text/plain": [
       "<Figure size 432x288 with 2 Axes>"
      ]
     },
     "metadata": {
      "needs_background": "light"
     },
     "output_type": "display_data"
    }
   ],
   "source": [
    "param_grid = {'C': [0.001, 0.01, 0.1, 1, 10, 100],\n",
    "             'gamma': [0.001, 0.01, 0.1, 1, 10, 100] }\n",
    "svm = SVC(kernel='rbf')\n",
    "\n",
    "grid_svm = GridSearchCV(svm, param_grid=param_grid, cv=5, refit=True)\n",
    "grid_svm.fit(X_train_tfidf, y_train_m)\n",
    "svm = grid_svm.best_estimator_\n",
    "\n",
    "svm_pred = svm.predict(X_test_tfidf)\n",
    "print('Test dataset Accuracy: {0:.4f}'.format(accuracy_score(y_test_m,svm_pred)))\n",
    "print(metrics.classification_report(y_test_m , svm_pred))\n",
    "print(metrics.confusion_matrix(y_test_m , svm_pred))\n",
    "\n",
    "# Confusion matrix \n",
    "plot = plot_confusion_matrix(svm, # classifier model\n",
    "                             X_test_BoW, y_test_m, #  predicted data, answer of predicted value\n",
    "                             cmap='Blues', # color map(plt.cm.Reds, plt.cm.rainbow etc)\n",
    "                             normalize=None) # select option:'true', 'pred', 'all'. default=None\n",
    "plot.ax_.set_title('Confusion Matrix')"
   ]
  },
  {
   "cell_type": "markdown",
   "metadata": {},
   "source": [
    "#### 2.full Train"
   ]
  },
  {
   "cell_type": "code",
   "execution_count": 37,
   "metadata": {},
   "outputs": [
    {
     "name": "stdout",
     "output_type": "stream",
     "text": [
      "Train dataset Accuracy: 0.6994\n",
      "              precision    recall  f1-score   support\n",
      "\n",
      "    negative       0.71      0.29      0.41      3715\n",
      "     neutral       0.69      0.92      0.79     12659\n",
      "    positive       0.77      0.47      0.58      5428\n",
      "\n",
      "    accuracy                           0.70     21802\n",
      "   macro avg       0.72      0.56      0.59     21802\n",
      "weighted avg       0.71      0.70      0.67     21802\n",
      "\n",
      "[[ 1080  2517   118]\n",
      " [  372 11626   661]\n",
      " [   67  2818  2543]]\n"
     ]
    }
   ],
   "source": [
    "svm = SVC(kernel='rbf')\n",
    "param_grid = {'C': [0.001, 0.01, 0.1, 1, 10, 100],\n",
    "             'gamma': [0.001, 0.01, 0.1, 1, 10, 100] }\n",
    "\n",
    "grid_svm = GridSearchCV(svm, param_grid=param_grid, cv=5, refit=True)\n",
    "grid_svm.fit(X_train_tfidf_F, y_train_F)\n",
    "svm = grid_svm.best_estimator_\n",
    "\n",
    "svm_pred = svm.predict(X_train_tfidf_F)\n",
    "print('Train dataset Accuracy: {0:.4f}'.format(accuracy_score(y_train_F,svm_pred)))\n",
    "print(metrics.classification_report(y_train_F , svm_pred))\n",
    "print(metrics.confusion_matrix(y_train_F , svm_pred))\n",
    "\n",
    "svm_pred = svm.predict(X_test_tfidf_F)\n",
    "\n",
    "test_data[\"sentiment\"] = svm_pred\n",
    "test_data_final = test_data[['id','sentiment']]\n",
    "test_data_final.to_csv(\"test_data_final_svm_TFIDF.csv\",index = None)"
   ]
  },
  {
   "cell_type": "markdown",
   "metadata": {},
   "source": [
    "# Naive Bayes"
   ]
  },
  {
   "cell_type": "markdown",
   "metadata": {},
   "source": [
    "### < BOW >"
   ]
  },
  {
   "cell_type": "markdown",
   "metadata": {},
   "source": [
    "#### 1. split Train"
   ]
  },
  {
   "cell_type": "code",
   "execution_count": 42,
   "metadata": {},
   "outputs": [
    {
     "name": "stdout",
     "output_type": "stream",
     "text": [
      "Test dataset Accuracy: 0.6236\n",
      "              precision    recall  f1-score   support\n",
      "\n",
      "    negative       0.50      0.47      0.48       372\n",
      "     neutral       0.70      0.69      0.69      1266\n",
      "    positive       0.53      0.58      0.56       543\n",
      "\n",
      "    accuracy                           0.62      2181\n",
      "   macro avg       0.58      0.58      0.58      2181\n",
      "weighted avg       0.63      0.62      0.62      2181\n",
      "\n",
      "[[176 157  39]\n",
      " [162 869 235]\n",
      " [ 16 212 315]]\n"
     ]
    },
    {
     "name": "stderr",
     "output_type": "stream",
     "text": [
      "C:\\Users\\tommy\\anaconda3\\lib\\site-packages\\sklearn\\utils\\deprecation.py:87: FutureWarning: Function plot_confusion_matrix is deprecated; Function `plot_confusion_matrix` is deprecated in 1.0 and will be removed in 1.2. Use one of the class methods: ConfusionMatrixDisplay.from_predictions or ConfusionMatrixDisplay.from_estimator.\n",
      "  warnings.warn(msg, category=FutureWarning)\n"
     ]
    },
    {
     "data": {
      "text/plain": [
       "Text(0.5, 1.0, 'Confusion Matrix')"
      ]
     },
     "execution_count": 42,
     "metadata": {},
     "output_type": "execute_result"
    },
    {
     "data": {
      "image/png": "[encoded data removed]",
      "text/plain": [
       "<Figure size 432x288 with 2 Axes>"
      ]
     },
     "metadata": {
      "needs_background": "light"
     },
     "output_type": "display_data"
    }
   ],
   "source": [
    "from sklearn.naive_bayes import MultinomialNB, BernoulliNB, CategoricalNB, ComplementNB, GaussianNB\n",
    "NB =  MultinomialNB()\n",
    "parameters = {'alpha' : [0.5,0.1,0.01,0.001,0.00001]}\n",
    "grid_NB = GridSearchCV(NB, param_grid=parameters, cv=5, refit=True)\n",
    "grid_NB.fit(X_train_BoW, y_train_m)\n",
    "\n",
    "NB = grid_NB.best_estimator_\n",
    "\n",
    "NB_pred = NB.predict(X_test_BoW)\n",
    "print('Test dataset Accuracy: {0:.4f}'.format(accuracy_score(y_test_m,NB_pred)))\n",
    "print(metrics.classification_report(y_test_m , NB_pred))\n",
    "print(metrics.confusion_matrix(y_test_m , NB_pred))\n",
    "\n",
    "# Confusion matrix \n",
    "plot = plot_confusion_matrix(NB, # classifier model\n",
    "                             X_test_BoW, y_test_m, #  predicted data, answer of predicted value\n",
    "                             cmap='Blues', # color map(plt.cm.Reds, plt.cm.rainbow etc)\n",
    "                             normalize=None) # select option:'true', 'pred', 'all'. default=None\n",
    "plot.ax_.set_title('Confusion Matrix')"
   ]
  },
  {
   "cell_type": "markdown",
   "metadata": {},
   "source": [
    "#### 2.full Train"
   ]
  },
  {
   "cell_type": "code",
   "execution_count": 43,
   "metadata": {},
   "outputs": [
    {
     "name": "stdout",
     "output_type": "stream",
     "text": [
      "Tain 데이터 세트 정확도: 0.8050\n",
      "              precision    recall  f1-score   support\n",
      "\n",
      "    negative       0.72      0.76      0.74      3715\n",
      "     neutral       0.87      0.81      0.84     12659\n",
      "    positive       0.73      0.82      0.77      5428\n",
      "\n",
      "    accuracy                           0.80     21802\n",
      "   macro avg       0.77      0.80      0.78     21802\n",
      "weighted avg       0.81      0.80      0.81     21802\n",
      "\n",
      "[[ 2813   679   223]\n",
      " [  972 10292  1395]\n",
      " [  122   861  4445]]\n"
     ]
    }
   ],
   "source": [
    "NB =  MultinomialNB(alpha = 0.5)\n",
    "\n",
    "NB.fit(X_train_BoW_F, y_train_F)\n",
    "\n",
    "# GridSearchCV의 best_estimator_는 이미 최적 하이퍼 파라미터로 학습이 됨\n",
    "NB_pred_Full_BoW = NB.predict(X_train_BoW_F)\n",
    "print('Tain 데이터 세트 정확도: {0:.4f}'.format(accuracy_score(y_train_F,NB_pred_Full_BoW)))\n",
    "print(metrics.classification_report(y_train_F , NB_pred_Full_BoW))\n",
    "print(metrics.confusion_matrix(y_train_F , NB_pred_Full_BoW))\n",
    "\n",
    "NB_pred = NB.predict(X_test_BoW_F)\n",
    "\n",
    "test_data[\"sentiment\"] = NB_pred\n",
    "test_data_final = test_data[['id','sentiment']]\n",
    "test_data_final.to_csv(\"test_data_final_NB_BOW0_5.csv\",index = None)"
   ]
  },
  {
   "cell_type": "markdown",
   "metadata": {},
   "source": [
    "### < TF_IDF >"
   ]
  },
  {
   "cell_type": "markdown",
   "metadata": {},
   "source": [
    "#### 1. split Train"
   ]
  },
  {
   "cell_type": "code",
   "execution_count": 44,
   "metadata": {},
   "outputs": [
    {
     "name": "stdout",
     "output_type": "stream",
     "text": [
      "Test dataset Accuracy: 0.6268\n",
      "              precision    recall  f1-score   support\n",
      "\n",
      "    negative       0.54      0.27      0.36       372\n",
      "     neutral       0.64      0.84      0.73      1266\n",
      "    positive       0.60      0.38      0.46       543\n",
      "\n",
      "    accuracy                           0.63      2181\n",
      "   macro avg       0.59      0.50      0.52      2181\n",
      "weighted avg       0.61      0.63      0.60      2181\n",
      "\n",
      "[[ 102  257   13]\n",
      " [  81 1060  125]\n",
      " [   5  333  205]]\n"
     ]
    },
    {
     "name": "stderr",
     "output_type": "stream",
     "text": [
      "C:\\Users\\tommy\\anaconda3\\lib\\site-packages\\sklearn\\utils\\deprecation.py:87: FutureWarning: Function plot_confusion_matrix is deprecated; Function `plot_confusion_matrix` is deprecated in 1.0 and will be removed in 1.2. Use one of the class methods: ConfusionMatrixDisplay.from_predictions or ConfusionMatrixDisplay.from_estimator.\n",
      "  warnings.warn(msg, category=FutureWarning)\n"
     ]
    },
    {
     "data": {
      "text/plain": [
       "Text(0.5, 1.0, 'Confusion Matrix')"
      ]
     },
     "execution_count": 44,
     "metadata": {},
     "output_type": "execute_result"
    },
    {
     "data": {
      "image/png": "[encoded data removed]",
      "text/plain": [
       "<Figure size 432x288 with 2 Axes>"
      ]
     },
     "metadata": {
      "needs_background": "light"
     },
     "output_type": "display_data"
    }
   ],
   "source": [
    "from sklearn.naive_bayes import MultinomialNB, BernoulliNB, CategoricalNB, ComplementNB, GaussianNB\n",
    "NB =  MultinomialNB()\n",
    "parameters = {'alpha' : [0.1,0.01,0.001,0.00001]}\n",
    "grid_NB = GridSearchCV(NB, param_grid=parameters, cv=5, refit=True)\n",
    "grid_NB.fit(X_train_tfidf, y_train_m)\n",
    "\n",
    "NB = grid_NB.best_estimator_\n",
    "\n",
    "NB_pred = NB.predict(X_test_tfidf)\n",
    "print('Test dataset Accuracy: {0:.4f}'.format(accuracy_score(y_test_m,NB_pred)))\n",
    "print(metrics.classification_report(y_test_m , NB_pred))\n",
    "print(metrics.confusion_matrix(y_test_m , NB_pred))\n",
    "\n",
    "# Confusion matrix \n",
    "plot = plot_confusion_matrix(NB, # classifier model\n",
    "                             X_test_BoW, y_test_m, #  predicted data, answer of predicted value\n",
    "                             cmap='Blues', # color map(plt.cm.Reds, plt.cm.rainbow etc)\n",
    "                             normalize=None) # select option:'true', 'pred', 'all'. default=None\n",
    "plot.ax_.set_title('Confusion Matrix')"
   ]
  },
  {
   "cell_type": "markdown",
   "metadata": {},
   "source": [
    "#### 2.full Train"
   ]
  },
  {
   "cell_type": "code",
   "execution_count": 45,
   "metadata": {},
   "outputs": [
    {
     "name": "stdout",
     "output_type": "stream",
     "text": [
      "Train dataset Accuracy: 0.6508\n",
      "              precision    recall  f1-score   support\n",
      "\n",
      "    negative       0.58      0.30      0.40      3715\n",
      "     neutral       0.66      0.87      0.75     12659\n",
      "    positive       0.66      0.38      0.48      5428\n",
      "\n",
      "    accuracy                           0.65     21802\n",
      "   macro avg       0.63      0.52      0.54     21802\n",
      "weighted avg       0.65      0.65      0.62     21802\n",
      "\n",
      "[[ 1124  2465   126]\n",
      " [  733 10996   930]\n",
      " [   66  3294  2068]]\n"
     ]
    }
   ],
   "source": [
    "NB =  MultinomialNB()\n",
    "parameters = {'alpha' : [10, 1, 0.1,0.01,0.001,0.00001]}\n",
    "grid_NB = GridSearchCV(NB, param_grid=parameters, cv=5, refit=True)\n",
    "\n",
    "grid_NB.fit(X_train_tfidf_F, y_train_F)\n",
    "\n",
    "NB = grid_NB.best_estimator_\n",
    "\n",
    "NB_pred_Full_tfidf = NB.predict(X_train_tfidf_F)\n",
    "print('Train dataset Accuracy: {0:.4f}'.format(accuracy_score(y_train_F,NB_pred_Full_tfidf)))\n",
    "print(metrics.classification_report(y_train_F , NB_pred_Full_tfidf))\n",
    "print(metrics.confusion_matrix(y_train_F , NB_pred_Full_tfidf))\n",
    "\n",
    "NB_pred = NB.predict(X_test_tfidf_F)\n",
    "\n",
    "test_data[\"sentiment\"] = NB_pred\n",
    "test_data_final = test_data[['id','sentiment']]\n",
    "test_data_final.to_csv(\"test_data_final_NB_TFIDF.csv\",index = None)"
   ]
  }
 ],
 "metadata": {
  "kernelspec": {
   "display_name": "Python 3 (ipykernel)",
   "language": "python",
   "name": "python3"
  },
  "language_info": {
   "codemirror_mode": {
    "name": "ipython",
    "version": 3
   },
   "file_extension": ".py",
   "mimetype": "text/x-python",
   "name": "python",
   "nbconvert_exporter": "python",
   "pygments_lexer": "ipython3",
   "version": "3.7.13"
  }
 },
 "nbformat": 4,
 "nbformat_minor": 4
}
